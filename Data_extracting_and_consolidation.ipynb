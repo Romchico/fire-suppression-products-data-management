{
 "cells": [
  {
   "cell_type": "markdown",
   "id": "47092c96-0c45-4578-b56f-99e66d7fbb6d",
   "metadata": {},
   "source": [
    "# 1. Streamlining Excel File Preparation with the OS Module: Simplifying Data Preprocessing for Analysis"
   ]
  },
  {
   "cell_type": "code",
   "execution_count": 1,
   "id": "9b60ee5b-3338-425a-890d-b970f098a046",
   "metadata": {},
   "outputs": [],
   "source": [
    "import os\n",
    "import re\n",
    "from time import sleep\n",
    "import numpy as np\n",
    "import pandas as pd\n",
    "from datetime import datetime\n",
    "from dateutil.relativedelta import relativedelta"
   ]
  },
  {
   "cell_type": "code",
   "execution_count": 2,
   "id": "ba347c37-5894-4263-ac69-788ec49bbea1",
   "metadata": {},
   "outputs": [],
   "source": [
    "file_names = os.listdir()"
   ]
  },
  {
   "cell_type": "markdown",
   "id": "7875fe16-9423-42e7-b735-4b285e55eba8",
   "metadata": {},
   "source": [
    "As I stated, I can't show the file names because they contain the names of customers. Let's remove the file names that are not Excel."
   ]
  },
  {
   "cell_type": "code",
   "execution_count": 3,
   "id": "f9facd23-2299-40ef-b569-25aa50f79bf9",
   "metadata": {},
   "outputs": [],
   "source": [
    "'''A file whose name starts with ~$ is almost certainly a temporary file created by Excel when you open a workbook. \n",
    "For example, when you open a workbook named Products. xlsx, Excel will create a temporary file ~$Products. \n",
    "Therefore, we need to remove  excel files that start with \"~$\" from \"file_names\" list in order to prevent possible problems.'''\n",
    "excel_file_names = []\n",
    "for file in file_names:\n",
    "    if file.startswith(\"~$\"):\n",
    "        continue\n",
    "    if file.endswith(\".xlsx\"):\n",
    "        excel_file_names.append(file)"
   ]
  },
  {
   "cell_type": "code",
   "execution_count": 4,
   "id": "0a16e657-db07-4ffe-b831-39c728f11f54",
   "metadata": {},
   "outputs": [
    {
     "data": {
      "text/plain": [
       "176"
      ]
     },
     "execution_count": 4,
     "metadata": {},
     "output_type": "execute_result"
    }
   ],
   "source": [
    "len(excel_file_names)"
   ]
  },
  {
   "cell_type": "markdown",
   "id": "a7ecb09d-8b50-46a2-aef8-c0af1f849196",
   "metadata": {},
   "source": [
    "There are a total of 176 Excel files, each representing a unique customer. Let's rename these excel files."
   ]
  },
  {
   "cell_type": "code",
   "execution_count": 5,
   "id": "0c74a7b8-bad4-4831-97fc-6661e06a7d3b",
   "metadata": {},
   "outputs": [],
   "source": [
    "new_name = 1\n",
    "excel_file_names_modified = []\n",
    "for file in excel_file_names:\n",
    "    name = f\"{new_name}.xlsx\"\n",
    "    os.rename(file, name)\n",
    "    excel_file_names_modified.append(name)\n",
    "    new_name += 1"
   ]
  },
  {
   "cell_type": "code",
   "execution_count": 6,
   "id": "6513f929-055b-4ef7-afd6-9516df22ef59",
   "metadata": {},
   "outputs": [
    {
     "data": {
      "text/plain": [
       "['1.xlsx',\n",
       " '2.xlsx',\n",
       " '3.xlsx',\n",
       " '4.xlsx',\n",
       " '5.xlsx',\n",
       " '6.xlsx',\n",
       " '7.xlsx',\n",
       " '8.xlsx',\n",
       " '9.xlsx',\n",
       " '10.xlsx',\n",
       " '11.xlsx',\n",
       " '12.xlsx',\n",
       " '13.xlsx',\n",
       " '14.xlsx',\n",
       " '15.xlsx',\n",
       " '16.xlsx',\n",
       " '17.xlsx',\n",
       " '18.xlsx',\n",
       " '19.xlsx',\n",
       " '20.xlsx',\n",
       " '21.xlsx',\n",
       " '22.xlsx',\n",
       " '23.xlsx',\n",
       " '24.xlsx',\n",
       " '25.xlsx',\n",
       " '26.xlsx',\n",
       " '27.xlsx',\n",
       " '28.xlsx',\n",
       " '29.xlsx',\n",
       " '30.xlsx',\n",
       " '31.xlsx',\n",
       " '32.xlsx',\n",
       " '33.xlsx',\n",
       " '34.xlsx',\n",
       " '35.xlsx',\n",
       " '36.xlsx',\n",
       " '37.xlsx',\n",
       " '38.xlsx',\n",
       " '39.xlsx',\n",
       " '40.xlsx',\n",
       " '41.xlsx',\n",
       " '42.xlsx',\n",
       " '43.xlsx',\n",
       " '44.xlsx',\n",
       " '45.xlsx',\n",
       " '46.xlsx',\n",
       " '47.xlsx',\n",
       " '48.xlsx',\n",
       " '49.xlsx',\n",
       " '50.xlsx',\n",
       " '51.xlsx',\n",
       " '52.xlsx',\n",
       " '53.xlsx',\n",
       " '54.xlsx',\n",
       " '55.xlsx',\n",
       " '56.xlsx',\n",
       " '57.xlsx',\n",
       " '58.xlsx',\n",
       " '59.xlsx',\n",
       " '60.xlsx',\n",
       " '61.xlsx',\n",
       " '62.xlsx',\n",
       " '63.xlsx',\n",
       " '64.xlsx',\n",
       " '65.xlsx',\n",
       " '66.xlsx',\n",
       " '67.xlsx',\n",
       " '68.xlsx',\n",
       " '69.xlsx',\n",
       " '70.xlsx',\n",
       " '71.xlsx',\n",
       " '72.xlsx',\n",
       " '73.xlsx',\n",
       " '74.xlsx',\n",
       " '75.xlsx',\n",
       " '76.xlsx',\n",
       " '77.xlsx',\n",
       " '78.xlsx',\n",
       " '79.xlsx',\n",
       " '80.xlsx',\n",
       " '81.xlsx',\n",
       " '82.xlsx',\n",
       " '83.xlsx',\n",
       " '84.xlsx',\n",
       " '85.xlsx',\n",
       " '86.xlsx',\n",
       " '87.xlsx',\n",
       " '88.xlsx',\n",
       " '89.xlsx',\n",
       " '90.xlsx',\n",
       " '91.xlsx',\n",
       " '92.xlsx',\n",
       " '93.xlsx',\n",
       " '94.xlsx',\n",
       " '95.xlsx',\n",
       " '96.xlsx',\n",
       " '97.xlsx',\n",
       " '98.xlsx',\n",
       " '99.xlsx',\n",
       " '100.xlsx',\n",
       " '101.xlsx',\n",
       " '102.xlsx',\n",
       " '103.xlsx',\n",
       " '104.xlsx',\n",
       " '105.xlsx',\n",
       " '106.xlsx',\n",
       " '107.xlsx',\n",
       " '108.xlsx',\n",
       " '109.xlsx',\n",
       " '110.xlsx',\n",
       " '111.xlsx',\n",
       " '112.xlsx',\n",
       " '113.xlsx',\n",
       " '114.xlsx',\n",
       " '115.xlsx',\n",
       " '116.xlsx',\n",
       " '117.xlsx',\n",
       " '118.xlsx',\n",
       " '119.xlsx',\n",
       " '120.xlsx',\n",
       " '121.xlsx',\n",
       " '122.xlsx',\n",
       " '123.xlsx',\n",
       " '124.xlsx',\n",
       " '125.xlsx',\n",
       " '126.xlsx',\n",
       " '127.xlsx',\n",
       " '128.xlsx',\n",
       " '129.xlsx',\n",
       " '130.xlsx',\n",
       " '131.xlsx',\n",
       " '132.xlsx',\n",
       " '133.xlsx',\n",
       " '134.xlsx',\n",
       " '135.xlsx',\n",
       " '136.xlsx',\n",
       " '137.xlsx',\n",
       " '138.xlsx',\n",
       " '139.xlsx',\n",
       " '140.xlsx',\n",
       " '141.xlsx',\n",
       " '142.xlsx',\n",
       " '143.xlsx',\n",
       " '144.xlsx',\n",
       " '145.xlsx',\n",
       " '146.xlsx',\n",
       " '147.xlsx',\n",
       " '148.xlsx',\n",
       " '149.xlsx',\n",
       " '150.xlsx',\n",
       " '151.xlsx',\n",
       " '152.xlsx',\n",
       " '153.xlsx',\n",
       " '154.xlsx',\n",
       " '155.xlsx',\n",
       " '156.xlsx',\n",
       " '157.xlsx',\n",
       " '158.xlsx',\n",
       " '159.xlsx',\n",
       " '160.xlsx',\n",
       " '161.xlsx',\n",
       " '162.xlsx',\n",
       " '163.xlsx',\n",
       " '164.xlsx',\n",
       " '165.xlsx',\n",
       " '166.xlsx',\n",
       " '167.xlsx',\n",
       " '168.xlsx',\n",
       " '169.xlsx',\n",
       " '170.xlsx',\n",
       " '171.xlsx',\n",
       " '172.xlsx',\n",
       " '173.xlsx',\n",
       " '174.xlsx',\n",
       " '175.xlsx',\n",
       " '176.xlsx']"
      ]
     },
     "execution_count": 6,
     "metadata": {},
     "output_type": "execute_result"
    }
   ],
   "source": [
    "excel_file_names_modified"
   ]
  },
  {
   "cell_type": "markdown",
   "id": "5ab9226e-59e2-421e-8a63-675550e6adde",
   "metadata": {
    "tags": []
   },
   "source": [
    "# 2. Efficient DateTime Extraction: Uncovering Dates from Excel Files"
   ]
  },
  {
   "cell_type": "code",
   "execution_count": 7,
   "id": "26a3af47-4634-4115-8d90-b608a9d1be50",
   "metadata": {},
   "outputs": [],
   "source": [
    "df = pd.read_excel(\"1.xlsx\")"
   ]
  },
  {
   "cell_type": "code",
   "execution_count": 8,
   "id": "a18d7bc5-dd5e-45db-9318-7c131c7c0dd6",
   "metadata": {},
   "outputs": [
    {
     "name": "stdout",
     "output_type": "stream",
     "text": [
      "25/08/2020 - Dolum Yapıldı\n",
      "25/08/2021 - Bakım\n",
      "25/08/2022 - Dolum\n"
     ]
    }
   ],
   "source": [
    "print(df.iloc[24, 1])"
   ]
  },
  {
   "cell_type": "markdown",
   "id": "7c984283-e0b3-44b8-92af-a1581e2a2a10",
   "metadata": {},
   "source": [
    "Fortunately, the desired dates can be extracted from the 24th row and 2nd column of every Excel file. Due to privacy concerns, I am unable to display the contents of the other rows and columns."
   ]
  },
  {
   "cell_type": "markdown",
   "id": "75528f7b-2f8d-42d5-8988-ae99f4f8c054",
   "metadata": {},
   "source": [
    "In Turkish, 'dolum' means filling, and 'bakım' means maintenance. However, this information is not essential for our purposes. Once the notification is received, the customer's name can be easily found in the written file, eliminating the need to specify whether the dates are for maintenance or filling. The hand-written file is always checked for reference."
   ]
  },
  {
   "cell_type": "markdown",
   "id": "494222a3-fbd9-4f25-bd63-5a86ff10ce81",
   "metadata": {},
   "source": [
    "### 2.1 Using Regular Expressions to Create a Pattern for Efficient Data Processing"
   ]
  },
  {
   "cell_type": "code",
   "execution_count": 9,
   "id": "ad6d1d3f-75b9-440c-827d-1a3edbacf086",
   "metadata": {},
   "outputs": [],
   "source": [
    "pattern = re.compile(r\"\\d{1,2}/\\d{1,2}/\\d{4}|\\d{1,2}[.]\\d{1,2}[.]\\d{4}\")"
   ]
  },
  {
   "cell_type": "code",
   "execution_count": 10,
   "id": "f89ecc3f-9c50-46b9-8fc0-bf70a0b01de2",
   "metadata": {},
   "outputs": [],
   "source": [
    "today = datetime.today()\n",
    "today = pd.to_datetime(today, dayfirst=True)"
   ]
  },
  {
   "cell_type": "code",
   "execution_count": 11,
   "id": "9905570c-61b5-48cc-9796-b49039d492c4",
   "metadata": {},
   "outputs": [],
   "source": [
    "def find_and_convert_dates(file_name, text):\n",
    "    \n",
    "    try:\n",
    "        dates_converted = []\n",
    "        dates = re.findall(pattern, text)\n",
    "        \n",
    "        if dates == []:\n",
    "            \n",
    "            return [file_name, pd.NaT, 0, 0]\n",
    "        \n",
    "        for date in dates:\n",
    "            if \"/\" in date:\n",
    "                date = pd.to_datetime(date,format= \"%d/%m/%Y\",\n",
    "                                      dayfirst=True)\n",
    "                dates_converted.append(date)\n",
    "            else:\n",
    "                date = pd.to_datetime(date,format= \"%d.%m.%Y\",\n",
    "                                      dayfirst=True)\n",
    "                dates_converted.append(date)\n",
    "        \n",
    "        if max(dates_converted) < today: \n",
    "            date_final = max(dates_converted) + relativedelta(years=1)\n",
    "            while True:\n",
    "                if date_final > today:\n",
    "                    break\n",
    "                else:\n",
    "                    date_final += relativedelta(years=1)\n",
    "            \n",
    "        else:\n",
    "            date_final = min([date for date in dates_converted if date > today])\n",
    "                \n",
    "        ''' In this scenario, we aim to obtain the date that is either the closest future \n",
    "            date to the current date or, if no future date exists, the latest date available.\n",
    "            If the latest date is selected, we increment it by one year until it surpasses the current date.'''\n",
    "            \n",
    "\n",
    "\n",
    "        num_of_int = len(re.findall(r\"\\d\",text))\n",
    "        ''' Checking number of integers to compare if there is more integers\n",
    "            in the text than in the dates. If there is an imbalance, we have to \n",
    "            check the specific excel file.\n",
    "        '''\n",
    "\n",
    "        num_of_int_in_dates = 0\n",
    "        for date in dates:\n",
    "            num_of_int_in_dates += len(re.findall(r\"\\d\",date))\n",
    "\n",
    "\n",
    "        dif = num_of_int - num_of_int_in_dates\n",
    "        ''' We have to keep records of differences between the total\n",
    "            number of integers and number of integers in the date/s.'''\n",
    "        \n",
    "        return [file_name, date_final, dif, 0]\n",
    "    \n",
    "    except Exception as e:\n",
    "        \n",
    "        return [file_name, 0, 0, e]\n",
    "    "
   ]
  },
  {
   "cell_type": "markdown",
   "id": "5b0d28cf-7d84-42a5-ae93-de71c4b59986",
   "metadata": {},
   "source": [
    "The function takes a text and excel file name as input and returns a list with four items. The first item indicates the name of the Excel file. The second item represents the date found in the text. If a date is not found, it will be represented as NaT (not a time), indicating the absence of a valid date. The rest of the items will be assigned as \"0\" in this case. If dates are found in the file, the function will consider the latest date. The third item indicates the presence of additional numbers in the text apart from the dates. If there are additional numbers, it specifies the count of such numbers. The last item indicates the presence of an error during the execution of the function. If an error occurs, the second and third items in the list will be assigned as \"0\", and the error message will be stored in the last item.\n",
    "\n",
    "To summarize:\n",
    "\n",
    "- First item: Name of the Excel file.\n",
    "- Second item: Latest date found in the text or NaT if no date is found. Rest of the items will be \"0\" if no date is found.\n",
    "- Third item: Count of additional numbers found apart from the dates, or 0 if no additional numbers are present.\n",
    "- Last item: Error message if an error occurs during execution, or 0 if no error is encountered."
   ]
  },
  {
   "cell_type": "markdown",
   "id": "f9b14dc7-3240-44f0-9438-1e3bf5692a3b",
   "metadata": {},
   "source": [
    "The code uses regular expressions (re) and pandas (pd) to find and convert dates in a given text. It defines a pattern that captures four date formats: \"dd/mm/yyyy\", \"dd.mm.yyyy\", \"d/m/yyyy\", and \"d.m.yyyy\". The function find_and_convert_dates finds all date occurrences using the pattern and converts them to pandas DateTime objects."
   ]
  },
  {
   "cell_type": "markdown",
   "id": "012a248e-cd60-427e-9de1-491e58a22e78",
   "metadata": {},
   "source": [
    "### 2.2 Extracting Dates"
   ]
  },
  {
   "cell_type": "code",
   "execution_count": 12,
   "id": "5916db73-3b52-4944-a7d4-ee3fe2aa5ac1",
   "metadata": {},
   "outputs": [
    {
     "name": "stdout",
     "output_type": "stream",
     "text": [
      "1.xlsx\n",
      "2.xlsx\n",
      "3.xlsx\n",
      "4.xlsx\n",
      "5.xlsx\n",
      "6.xlsx\n",
      "7.xlsx\n",
      "8.xlsx\n",
      "9.xlsx\n",
      "10.xlsx\n",
      "11.xlsx\n",
      "12.xlsx\n",
      "13.xlsx\n",
      "14.xlsx\n",
      "15.xlsx\n",
      "16.xlsx\n",
      "17.xlsx\n",
      "18.xlsx\n",
      "19.xlsx\n",
      "20.xlsx\n",
      "21.xlsx\n",
      "22.xlsx\n",
      "23.xlsx\n",
      "24.xlsx\n",
      "25.xlsx\n",
      "26.xlsx\n",
      "27.xlsx\n",
      "28.xlsx\n",
      "29.xlsx\n",
      "30.xlsx\n",
      "31.xlsx\n",
      "32.xlsx\n",
      "33.xlsx\n",
      "34.xlsx\n",
      "35.xlsx\n",
      "36.xlsx\n",
      "37.xlsx\n",
      "38.xlsx\n",
      "39.xlsx\n",
      "40.xlsx\n",
      "41.xlsx\n",
      "42.xlsx\n",
      "43.xlsx\n",
      "44.xlsx\n",
      "45.xlsx\n",
      "46.xlsx\n",
      "47.xlsx\n",
      "48.xlsx\n",
      "49.xlsx\n",
      "50.xlsx\n",
      "51.xlsx\n",
      "52.xlsx\n",
      "53.xlsx\n",
      "54.xlsx\n",
      "55.xlsx\n",
      "56.xlsx\n",
      "57.xlsx\n",
      "58.xlsx\n",
      "59.xlsx\n",
      "60.xlsx\n",
      "61.xlsx\n",
      "62.xlsx\n",
      "63.xlsx\n",
      "64.xlsx\n",
      "65.xlsx\n",
      "66.xlsx\n",
      "67.xlsx\n",
      "68.xlsx\n",
      "69.xlsx\n",
      "70.xlsx\n",
      "71.xlsx\n",
      "72.xlsx\n",
      "73.xlsx\n",
      "74.xlsx\n",
      "75.xlsx\n",
      "76.xlsx\n",
      "77.xlsx\n",
      "78.xlsx\n",
      "79.xlsx\n",
      "80.xlsx\n",
      "81.xlsx\n",
      "82.xlsx\n",
      "83.xlsx\n",
      "84.xlsx\n",
      "85.xlsx\n",
      "86.xlsx\n",
      "87.xlsx\n",
      "88.xlsx\n",
      "89.xlsx\n",
      "90.xlsx\n",
      "91.xlsx\n",
      "92.xlsx\n",
      "93.xlsx\n",
      "94.xlsx\n",
      "95.xlsx\n",
      "96.xlsx\n",
      "97.xlsx\n",
      "98.xlsx\n",
      "99.xlsx\n",
      "100.xlsx\n",
      "101.xlsx\n",
      "102.xlsx\n",
      "103.xlsx\n",
      "104.xlsx\n",
      "105.xlsx\n",
      "106.xlsx\n",
      "107.xlsx\n",
      "108.xlsx\n",
      "109.xlsx\n",
      "110.xlsx\n",
      "111.xlsx\n",
      "112.xlsx\n",
      "113.xlsx\n",
      "114.xlsx\n",
      "115.xlsx\n",
      "116.xlsx\n",
      "117.xlsx\n",
      "118.xlsx\n",
      "119.xlsx\n",
      "120.xlsx\n",
      "121.xlsx\n",
      "122.xlsx\n",
      "123.xlsx\n",
      "124.xlsx\n",
      "125.xlsx\n",
      "126.xlsx\n",
      "127.xlsx\n",
      "128.xlsx\n",
      "129.xlsx\n",
      "130.xlsx\n",
      "131.xlsx\n",
      "132.xlsx\n",
      "133.xlsx\n",
      "134.xlsx\n",
      "135.xlsx\n",
      "136.xlsx\n",
      "137.xlsx\n",
      "138.xlsx\n",
      "139.xlsx\n",
      "140.xlsx\n",
      "141.xlsx\n",
      "142.xlsx\n",
      "143.xlsx\n",
      "144.xlsx\n",
      "145.xlsx\n",
      "146.xlsx\n",
      "147.xlsx\n",
      "148.xlsx\n",
      "149.xlsx\n",
      "150.xlsx\n",
      "151.xlsx\n",
      "152.xlsx\n",
      "153.xlsx\n",
      "154.xlsx\n",
      "155.xlsx\n",
      "156.xlsx\n",
      "157.xlsx\n",
      "158.xlsx\n",
      "159.xlsx\n",
      "160.xlsx\n",
      "161.xlsx\n",
      "162.xlsx\n",
      "163.xlsx\n",
      "164.xlsx\n",
      "165.xlsx\n",
      "166.xlsx\n",
      "167.xlsx\n",
      "168.xlsx\n",
      "169.xlsx\n",
      "170.xlsx\n",
      "171.xlsx\n",
      "172.xlsx\n",
      "173.xlsx\n",
      "174.xlsx\n",
      "175.xlsx\n",
      "176.xlsx\n"
     ]
    }
   ],
   "source": [
    "columns = [\"file_name\", \"the_latest_date\", \"the_difference\", \"error_type\"]\n",
    "values = []\n",
    "\n",
    "for file in excel_file_names_modified:\n",
    "    print(file)\n",
    "    df = pd.read_excel(file)\n",
    "    text = df.iloc[24, 1]\n",
    "    value = find_and_convert_dates(file, text)\n",
    "    values.append(value)"
   ]
  },
  {
   "cell_type": "code",
   "execution_count": 13,
   "id": "95fda4ee-1908-4e1e-bdae-0ba4b55ac5b0",
   "metadata": {},
   "outputs": [
    {
     "data": {
      "text/html": [
       "<div>\n",
       "<style scoped>\n",
       "    .dataframe tbody tr th:only-of-type {\n",
       "        vertical-align: middle;\n",
       "    }\n",
       "\n",
       "    .dataframe tbody tr th {\n",
       "        vertical-align: top;\n",
       "    }\n",
       "\n",
       "    .dataframe thead th {\n",
       "        text-align: right;\n",
       "    }\n",
       "</style>\n",
       "<table border=\"1\" class=\"dataframe\">\n",
       "  <thead>\n",
       "    <tr style=\"text-align: right;\">\n",
       "      <th></th>\n",
       "      <th>file_name</th>\n",
       "      <th>the_latest_date</th>\n",
       "      <th>the_difference</th>\n",
       "      <th>error_type</th>\n",
       "    </tr>\n",
       "  </thead>\n",
       "  <tbody>\n",
       "    <tr>\n",
       "      <th>0</th>\n",
       "      <td>1.xlsx</td>\n",
       "      <td>2023-08-25 00:00:00</td>\n",
       "      <td>0</td>\n",
       "      <td>0</td>\n",
       "    </tr>\n",
       "    <tr>\n",
       "      <th>1</th>\n",
       "      <td>2.xlsx</td>\n",
       "      <td>2023-07-01 00:00:00</td>\n",
       "      <td>8</td>\n",
       "      <td>0</td>\n",
       "    </tr>\n",
       "    <tr>\n",
       "      <th>2</th>\n",
       "      <td>3.xlsx</td>\n",
       "      <td>2024-02-26 00:00:00</td>\n",
       "      <td>0</td>\n",
       "      <td>0</td>\n",
       "    </tr>\n",
       "    <tr>\n",
       "      <th>3</th>\n",
       "      <td>4.xlsx</td>\n",
       "      <td>2023-09-16 00:00:00</td>\n",
       "      <td>0</td>\n",
       "      <td>0</td>\n",
       "    </tr>\n",
       "    <tr>\n",
       "      <th>4</th>\n",
       "      <td>5.xlsx</td>\n",
       "      <td>2024-04-22 00:00:00</td>\n",
       "      <td>0</td>\n",
       "      <td>0</td>\n",
       "    </tr>\n",
       "  </tbody>\n",
       "</table>\n",
       "</div>"
      ],
      "text/plain": [
       "  file_name      the_latest_date  the_difference error_type\n",
       "0    1.xlsx  2023-08-25 00:00:00               0          0\n",
       "1    2.xlsx  2023-07-01 00:00:00               8          0\n",
       "2    3.xlsx  2024-02-26 00:00:00               0          0\n",
       "3    4.xlsx  2023-09-16 00:00:00               0          0\n",
       "4    5.xlsx  2024-04-22 00:00:00               0          0"
      ]
     },
     "execution_count": 13,
     "metadata": {},
     "output_type": "execute_result"
    }
   ],
   "source": [
    "merged_df = pd.DataFrame(values, columns=columns)\n",
    "merged_df.head()"
   ]
  },
  {
   "cell_type": "code",
   "execution_count": 16,
   "id": "30c94c44-ec4a-4198-a93d-05e7753cfd03",
   "metadata": {},
   "outputs": [],
   "source": [
    "merged_df_upd = merged_df.set_index(\"file_name\").copy()"
   ]
  },
  {
   "cell_type": "code",
   "execution_count": 17,
   "id": "678f4621-a57c-4e7d-9042-f6b473ceab8c",
   "metadata": {},
   "outputs": [
    {
     "data": {
      "text/html": [
       "<div>\n",
       "<style scoped>\n",
       "    .dataframe tbody tr th:only-of-type {\n",
       "        vertical-align: middle;\n",
       "    }\n",
       "\n",
       "    .dataframe tbody tr th {\n",
       "        vertical-align: top;\n",
       "    }\n",
       "\n",
       "    .dataframe thead th {\n",
       "        text-align: right;\n",
       "    }\n",
       "</style>\n",
       "<table border=\"1\" class=\"dataframe\">\n",
       "  <thead>\n",
       "    <tr style=\"text-align: right;\">\n",
       "      <th></th>\n",
       "      <th>the_latest_date</th>\n",
       "      <th>the_difference</th>\n",
       "      <th>error_type</th>\n",
       "    </tr>\n",
       "    <tr>\n",
       "      <th>file_name</th>\n",
       "      <th></th>\n",
       "      <th></th>\n",
       "      <th></th>\n",
       "    </tr>\n",
       "  </thead>\n",
       "  <tbody>\n",
       "    <tr>\n",
       "      <th>1.xlsx</th>\n",
       "      <td>2023-08-25 00:00:00</td>\n",
       "      <td>0</td>\n",
       "      <td>0</td>\n",
       "    </tr>\n",
       "    <tr>\n",
       "      <th>2.xlsx</th>\n",
       "      <td>2023-07-01 00:00:00</td>\n",
       "      <td>8</td>\n",
       "      <td>0</td>\n",
       "    </tr>\n",
       "    <tr>\n",
       "      <th>3.xlsx</th>\n",
       "      <td>2024-02-26 00:00:00</td>\n",
       "      <td>0</td>\n",
       "      <td>0</td>\n",
       "    </tr>\n",
       "    <tr>\n",
       "      <th>4.xlsx</th>\n",
       "      <td>2023-09-16 00:00:00</td>\n",
       "      <td>0</td>\n",
       "      <td>0</td>\n",
       "    </tr>\n",
       "    <tr>\n",
       "      <th>5.xlsx</th>\n",
       "      <td>2024-04-22 00:00:00</td>\n",
       "      <td>0</td>\n",
       "      <td>0</td>\n",
       "    </tr>\n",
       "    <tr>\n",
       "      <th>...</th>\n",
       "      <td>...</td>\n",
       "      <td>...</td>\n",
       "      <td>...</td>\n",
       "    </tr>\n",
       "    <tr>\n",
       "      <th>172.xlsx</th>\n",
       "      <td>2023-08-03 00:00:00</td>\n",
       "      <td>0</td>\n",
       "      <td>0</td>\n",
       "    </tr>\n",
       "    <tr>\n",
       "      <th>173.xlsx</th>\n",
       "      <td>2023-06-24 00:00:00</td>\n",
       "      <td>0</td>\n",
       "      <td>0</td>\n",
       "    </tr>\n",
       "    <tr>\n",
       "      <th>174.xlsx</th>\n",
       "      <td>0</td>\n",
       "      <td>0</td>\n",
       "      <td>expected string or bytes-like object</td>\n",
       "    </tr>\n",
       "    <tr>\n",
       "      <th>175.xlsx</th>\n",
       "      <td>2023-10-01 00:00:00</td>\n",
       "      <td>0</td>\n",
       "      <td>0</td>\n",
       "    </tr>\n",
       "    <tr>\n",
       "      <th>176.xlsx</th>\n",
       "      <td>2024-02-05 00:00:00</td>\n",
       "      <td>0</td>\n",
       "      <td>0</td>\n",
       "    </tr>\n",
       "  </tbody>\n",
       "</table>\n",
       "<p>176 rows × 3 columns</p>\n",
       "</div>"
      ],
      "text/plain": [
       "               the_latest_date  the_difference   \n",
       "file_name                                        \n",
       "1.xlsx     2023-08-25 00:00:00               0  \\\n",
       "2.xlsx     2023-07-01 00:00:00               8   \n",
       "3.xlsx     2024-02-26 00:00:00               0   \n",
       "4.xlsx     2023-09-16 00:00:00               0   \n",
       "5.xlsx     2024-04-22 00:00:00               0   \n",
       "...                        ...             ...   \n",
       "172.xlsx   2023-08-03 00:00:00               0   \n",
       "173.xlsx   2023-06-24 00:00:00               0   \n",
       "174.xlsx                     0               0   \n",
       "175.xlsx   2023-10-01 00:00:00               0   \n",
       "176.xlsx   2024-02-05 00:00:00               0   \n",
       "\n",
       "                                     error_type  \n",
       "file_name                                        \n",
       "1.xlsx                                        0  \n",
       "2.xlsx                                        0  \n",
       "3.xlsx                                        0  \n",
       "4.xlsx                                        0  \n",
       "5.xlsx                                        0  \n",
       "...                                         ...  \n",
       "172.xlsx                                      0  \n",
       "173.xlsx                                      0  \n",
       "174.xlsx   expected string or bytes-like object  \n",
       "175.xlsx                                      0  \n",
       "176.xlsx                                      0  \n",
       "\n",
       "[176 rows x 3 columns]"
      ]
     },
     "execution_count": 17,
     "metadata": {},
     "output_type": "execute_result"
    }
   ],
   "source": [
    "merged_df_upd"
   ]
  },
  {
   "cell_type": "markdown",
   "id": "83118b8c-0cc0-457c-9d31-bc1da5378b9b",
   "metadata": {},
   "source": [
    "# 3. Uncovering Insights through Data Exploration"
   ]
  },
  {
   "cell_type": "code",
   "execution_count": 18,
   "id": "dc316e58-49a8-4ecf-a844-105468ea6455",
   "metadata": {},
   "outputs": [
    {
     "data": {
      "text/plain": [
       "12"
      ]
     },
     "execution_count": 18,
     "metadata": {},
     "output_type": "execute_result"
    }
   ],
   "source": [
    "len(merged_df_upd[merged_df_upd[\"the_latest_date\"] == 0])"
   ]
  },
  {
   "cell_type": "markdown",
   "id": "a0efea53-384b-450c-a2c9-982fe840cc28",
   "metadata": {},
   "source": [
    "Due to the small quantity of only 12 files, we can perform a manual check as dates could not be extracted."
   ]
  },
  {
   "cell_type": "code",
   "execution_count": 19,
   "id": "4910e8c1-fce1-40b9-9d5f-814fd6ff8109",
   "metadata": {},
   "outputs": [
    {
     "data": {
      "text/plain": [
       "22"
      ]
     },
     "execution_count": 19,
     "metadata": {},
     "output_type": "execute_result"
    }
   ],
   "source": [
    "len(merged_df_upd[merged_df_upd[\"the_difference\"] !=0])"
   ]
  },
  {
   "cell_type": "markdown",
   "id": "f4e703d1-a2e0-4e49-893f-2ae42759c061",
   "metadata": {},
   "source": [
    "Additionally, there are 22 Excel files containing unidentified numbers in addition to the extracted dates."
   ]
  },
  {
   "cell_type": "code",
   "execution_count": 20,
   "id": "9dbe89d6-0e10-4fe7-9c3f-8c9eac513271",
   "metadata": {},
   "outputs": [],
   "source": [
    "dates = merged_df_upd.loc[merged_df_upd[\"the_latest_date\"] != 0, :]\n"
   ]
  },
  {
   "cell_type": "code",
   "execution_count": 21,
   "id": "d8c48465-ddb7-4942-a8d9-389b90530871",
   "metadata": {},
   "outputs": [
    {
     "data": {
      "text/html": [
       "<div>\n",
       "<style scoped>\n",
       "    .dataframe tbody tr th:only-of-type {\n",
       "        vertical-align: middle;\n",
       "    }\n",
       "\n",
       "    .dataframe tbody tr th {\n",
       "        vertical-align: top;\n",
       "    }\n",
       "\n",
       "    .dataframe thead th {\n",
       "        text-align: right;\n",
       "    }\n",
       "</style>\n",
       "<table border=\"1\" class=\"dataframe\">\n",
       "  <thead>\n",
       "    <tr style=\"text-align: right;\">\n",
       "      <th></th>\n",
       "      <th>the_latest_date</th>\n",
       "      <th>the_difference</th>\n",
       "      <th>error_type</th>\n",
       "    </tr>\n",
       "    <tr>\n",
       "      <th>file_name</th>\n",
       "      <th></th>\n",
       "      <th></th>\n",
       "      <th></th>\n",
       "    </tr>\n",
       "  </thead>\n",
       "  <tbody>\n",
       "  </tbody>\n",
       "</table>\n",
       "</div>"
      ],
      "text/plain": [
       "Empty DataFrame\n",
       "Columns: [the_latest_date, the_difference, error_type]\n",
       "Index: []"
      ]
     },
     "execution_count": 21,
     "metadata": {},
     "output_type": "execute_result"
    }
   ],
   "source": [
    "dates[dates[\"the_latest_date\"] < today]"
   ]
  },
  {
   "cell_type": "markdown",
   "id": "626d5879-696e-4055-b589-470882f6442b",
   "metadata": {},
   "source": [
    "Furthermore, the function has achieved success in converting outdated dates into current ones."
   ]
  },
  {
   "cell_type": "markdown",
   "id": "e8bb8ccc-5928-408f-9f3e-e7d6c418bd12",
   "metadata": {
    "tags": []
   },
   "source": [
    "The process of maintaining and filling fire extinguishers follows a specific timeline. Maintenance is typically conducted one year after the initial sale, while filling is performed after a two-year interval. To bring the extinguishers up to date, we can systematically increment the outdated dates until they align with the current maintenance and filling requirements. Given the presence of written sources, such as records or documents, the exact nature of the date (whether it corresponds to maintenance or filling) does not need to be explicitly specified. The individuals involved in this process will refer to these written sources to ensure compliance with the appropriate maintenance and filling schedules after receiving the date notifications."
   ]
  },
  {
   "cell_type": "markdown",
   "id": "ad0e9996-3a32-45e4-b870-b60357484481",
   "metadata": {},
   "source": [
    "### 3.1 Managing Error-Prone Files"
   ]
  },
  {
   "cell_type": "code",
   "execution_count": 23,
   "id": "9331ac7e-0943-484d-bf0b-532f187599a2",
   "metadata": {},
   "outputs": [
    {
     "data": {
      "text/plain": [
       "['9.xlsx',\n",
       " '50.xlsx',\n",
       " '54.xlsx',\n",
       " '98.xlsx',\n",
       " '132.xlsx',\n",
       " '138.xlsx',\n",
       " '145.xlsx',\n",
       " '147.xlsx',\n",
       " '161.xlsx',\n",
       " '163.xlsx',\n",
       " '168.xlsx',\n",
       " '174.xlsx']"
      ]
     },
     "execution_count": 23,
     "metadata": {},
     "output_type": "execute_result"
    }
   ],
   "source": [
    "files_with_errors = list(merged_df_upd[merged_df_upd[\"the_latest_date\"] == 0].index)\n",
    "files_with_errors"
   ]
  },
  {
   "cell_type": "code",
   "execution_count": 24,
   "id": "18868b82-124c-474d-83ee-58283a1e7039",
   "metadata": {},
   "outputs": [
    {
     "name": "stdout",
     "output_type": "stream",
     "text": [
      "File name: 9.xlsx\n",
      "\n",
      " nan \n",
      "\n",
      "\n",
      "File name: 50.xlsx\n",
      "\n",
      " nan \n",
      "\n",
      "\n",
      "File name: 54.xlsx\n",
      "\n",
      " nan \n",
      "\n",
      "\n",
      "File name: 98.xlsx\n",
      "\n",
      " nan \n",
      "\n",
      "\n",
      "File name: 132.xlsx\n",
      "\n",
      " nan \n",
      "\n",
      "\n",
      "File name: 138.xlsx\n",
      "\n",
      " nan \n",
      "\n",
      "\n",
      "File name: 145.xlsx\n",
      "\n",
      " nan \n",
      "\n",
      "\n",
      "File name: 147.xlsx\n",
      "\n",
      " nan \n",
      "\n",
      "\n",
      "File name: 161.xlsx\n",
      "\n",
      " nan \n",
      "\n",
      "\n",
      "File name: 163.xlsx\n",
      "\n",
      " nan \n",
      "\n",
      "\n",
      "File name: 168.xlsx\n",
      "\n",
      " nan \n",
      "\n",
      "\n",
      "File name: 174.xlsx\n",
      "\n",
      " nan \n",
      "\n",
      "\n"
     ]
    }
   ],
   "source": [
    "for file in files_with_errors:\n",
    "    df = pd.read_excel(file)\n",
    "    text = df.iloc[24, 1]\n",
    "    print(f\"File name: {file}\\n\\n\",text, \"\\n\\n\")"
   ]
  },
  {
   "cell_type": "code",
   "execution_count": 25,
   "id": "f856445d-38f0-4da7-b168-25b512736482",
   "metadata": {},
   "outputs": [
    {
     "name": "stdout",
     "output_type": "stream",
     "text": [
      "['9.xlsx', '50.xlsx', '54.xlsx', '98.xlsx', '132.xlsx', '138.xlsx', '145.xlsx', '147.xlsx', '161.xlsx', '163.xlsx', '168.xlsx', '174.xlsx']\n"
     ]
    }
   ],
   "source": [
    "print(files_with_errors)"
   ]
  },
  {
   "cell_type": "markdown",
   "id": "26cb3d6f-078f-47f5-81b3-576005821bb8",
   "metadata": {},
   "source": [
    "Upon manual inspection, it was observed that the dates within the 98th, 145th, and 168th Excel files are located in different sections compared to the rest of the files. Conversely, no dates were found within the 9th, 50th, 54th, 132nd, 138th, 147th, 161st, 163rd, and 174th Excel files."
   ]
  },
  {
   "cell_type": "code",
   "execution_count": 26,
   "id": "fa5c7fc7-7d9e-4868-b11f-1d85a352c5b1",
   "metadata": {
    "tags": []
   },
   "outputs": [
    {
     "data": {
      "text/plain": [
       "['98.xlsx', Timestamp('2024-04-01 00:00:00'), 0, 0]"
      ]
     },
     "execution_count": 26,
     "metadata": {},
     "output_type": "execute_result"
    }
   ],
   "source": [
    "files_temp = ['98.xlsx', '145.xlsx', '168.xlsx']\n",
    "df = pd.read_excel(files_temp[0])\n",
    "text = df.iloc[27, 1]\n",
    "the_date = find_and_convert_dates(files_temp[0], text)\n",
    "the_date"
   ]
  },
  {
   "cell_type": "code",
   "execution_count": 32,
   "id": "7ae63759-0a28-4d98-895c-a83449e091b2",
   "metadata": {},
   "outputs": [
    {
     "data": {
      "text/plain": [
       "the_latest_date    2024-04-01 00:00:00\n",
       "the_difference                       0\n",
       "error_type                           0\n",
       "Name: 98.xlsx, dtype: object"
      ]
     },
     "execution_count": 32,
     "metadata": {},
     "output_type": "execute_result"
    }
   ],
   "source": [
    "merged_df_upd.loc[\"98.xlsx\"] = the_date[1:]\n",
    "merged_df_upd.loc[\"98.xlsx\"]"
   ]
  },
  {
   "cell_type": "code",
   "execution_count": 33,
   "id": "97930fcb-1f05-471c-aa0f-934ae8542ae3",
   "metadata": {},
   "outputs": [
    {
     "data": {
      "text/plain": [
       "'26.08.2021 DOLUM YAPILDI                                                                      26.02.2022 BAKIM                                                                                      26.08.2022 DOLUM'"
      ]
     },
     "execution_count": 33,
     "metadata": {},
     "output_type": "execute_result"
    }
   ],
   "source": [
    "df = pd.read_excel(files_temp[1])\n",
    "text = df.iloc[30, 1]\n",
    "text"
   ]
  },
  {
   "cell_type": "code",
   "execution_count": 34,
   "id": "d1a50024-c2d3-4d08-b9b9-503669a5efa2",
   "metadata": {},
   "outputs": [
    {
     "data": {
      "text/plain": [
       "['145.xlsx', Timestamp('2023-08-26 00:00:00'), 0, 0]"
      ]
     },
     "execution_count": 34,
     "metadata": {},
     "output_type": "execute_result"
    }
   ],
   "source": [
    "the_date = find_and_convert_dates(files_temp[1], text)\n",
    "the_date"
   ]
  },
  {
   "cell_type": "code",
   "execution_count": 37,
   "id": "53ac4a4f-1e3d-4ed8-ae25-fdb99aefea72",
   "metadata": {},
   "outputs": [
    {
     "data": {
      "text/plain": [
       "the_latest_date    2023-08-26 00:00:00\n",
       "the_difference                       0\n",
       "error_type                           0\n",
       "Name: 145.xlsx, dtype: object"
      ]
     },
     "execution_count": 37,
     "metadata": {},
     "output_type": "execute_result"
    }
   ],
   "source": [
    "merged_df_upd.loc[\"145.xlsx\"] = the_date[1:]\n",
    "merged_df_upd.loc[\"145.xlsx\"]"
   ]
  },
  {
   "cell_type": "code",
   "execution_count": 38,
   "id": "facb8e91-fd33-48bf-9d4c-52f37042903d",
   "metadata": {},
   "outputs": [],
   "source": [
    "df = pd.read_excel(files_temp[2])\n",
    "text = df.iloc[30, 1]"
   ]
  },
  {
   "cell_type": "code",
   "execution_count": 39,
   "id": "90860eb5-7d2a-4668-ba1b-9d108e8b8dd0",
   "metadata": {},
   "outputs": [
    {
     "data": {
      "text/plain": [
       "['168.xlsx', Timestamp('2023-06-10 00:00:00'), 6, 0]"
      ]
     },
     "execution_count": 39,
     "metadata": {},
     "output_type": "execute_result"
    }
   ],
   "source": [
    "the_date = find_and_convert_dates(files_temp[2], text)\n",
    "the_date"
   ]
  },
  {
   "cell_type": "code",
   "execution_count": 43,
   "id": "8054780d-af28-4597-989c-c1616fc14f55",
   "metadata": {},
   "outputs": [
    {
     "data": {
      "text/plain": [
       "the_latest_date    2023-06-10 00:00:00\n",
       "the_difference                       6\n",
       "error_type                           0\n",
       "Name: 168.xlsx, dtype: object"
      ]
     },
     "execution_count": 43,
     "metadata": {},
     "output_type": "execute_result"
    }
   ],
   "source": [
    "merged_df_upd.loc[\"168.xlsx\"] = the_date[1:]\n",
    "merged_df_upd.loc[\"168.xlsx\"]"
   ]
  },
  {
   "cell_type": "code",
   "execution_count": 44,
   "id": "5f54e3fe-ca51-48ea-a4f2-afe04cbd6f78",
   "metadata": {},
   "outputs": [
    {
     "data": {
      "text/html": [
       "<div>\n",
       "<style scoped>\n",
       "    .dataframe tbody tr th:only-of-type {\n",
       "        vertical-align: middle;\n",
       "    }\n",
       "\n",
       "    .dataframe tbody tr th {\n",
       "        vertical-align: top;\n",
       "    }\n",
       "\n",
       "    .dataframe thead th {\n",
       "        text-align: right;\n",
       "    }\n",
       "</style>\n",
       "<table border=\"1\" class=\"dataframe\">\n",
       "  <thead>\n",
       "    <tr style=\"text-align: right;\">\n",
       "      <th></th>\n",
       "      <th>the_latest_date</th>\n",
       "      <th>the_difference</th>\n",
       "      <th>error_type</th>\n",
       "    </tr>\n",
       "    <tr>\n",
       "      <th>file_name</th>\n",
       "      <th></th>\n",
       "      <th></th>\n",
       "      <th></th>\n",
       "    </tr>\n",
       "  </thead>\n",
       "  <tbody>\n",
       "    <tr>\n",
       "      <th>9.xlsx</th>\n",
       "      <td>0</td>\n",
       "      <td>0</td>\n",
       "      <td>expected string or bytes-like object</td>\n",
       "    </tr>\n",
       "    <tr>\n",
       "      <th>50.xlsx</th>\n",
       "      <td>0</td>\n",
       "      <td>0</td>\n",
       "      <td>expected string or bytes-like object</td>\n",
       "    </tr>\n",
       "    <tr>\n",
       "      <th>54.xlsx</th>\n",
       "      <td>0</td>\n",
       "      <td>0</td>\n",
       "      <td>expected string or bytes-like object</td>\n",
       "    </tr>\n",
       "    <tr>\n",
       "      <th>132.xlsx</th>\n",
       "      <td>0</td>\n",
       "      <td>0</td>\n",
       "      <td>expected string or bytes-like object</td>\n",
       "    </tr>\n",
       "    <tr>\n",
       "      <th>138.xlsx</th>\n",
       "      <td>0</td>\n",
       "      <td>0</td>\n",
       "      <td>expected string or bytes-like object</td>\n",
       "    </tr>\n",
       "    <tr>\n",
       "      <th>147.xlsx</th>\n",
       "      <td>0</td>\n",
       "      <td>0</td>\n",
       "      <td>expected string or bytes-like object</td>\n",
       "    </tr>\n",
       "    <tr>\n",
       "      <th>161.xlsx</th>\n",
       "      <td>0</td>\n",
       "      <td>0</td>\n",
       "      <td>expected string or bytes-like object</td>\n",
       "    </tr>\n",
       "    <tr>\n",
       "      <th>163.xlsx</th>\n",
       "      <td>0</td>\n",
       "      <td>0</td>\n",
       "      <td>expected string or bytes-like object</td>\n",
       "    </tr>\n",
       "    <tr>\n",
       "      <th>174.xlsx</th>\n",
       "      <td>0</td>\n",
       "      <td>0</td>\n",
       "      <td>expected string or bytes-like object</td>\n",
       "    </tr>\n",
       "  </tbody>\n",
       "</table>\n",
       "</div>"
      ],
      "text/plain": [
       "          the_latest_date  the_difference   \n",
       "file_name                                   \n",
       "9.xlsx                  0               0  \\\n",
       "50.xlsx                 0               0   \n",
       "54.xlsx                 0               0   \n",
       "132.xlsx                0               0   \n",
       "138.xlsx                0               0   \n",
       "147.xlsx                0               0   \n",
       "161.xlsx                0               0   \n",
       "163.xlsx                0               0   \n",
       "174.xlsx                0               0   \n",
       "\n",
       "                                     error_type  \n",
       "file_name                                        \n",
       "9.xlsx     expected string or bytes-like object  \n",
       "50.xlsx    expected string or bytes-like object  \n",
       "54.xlsx    expected string or bytes-like object  \n",
       "132.xlsx   expected string or bytes-like object  \n",
       "138.xlsx   expected string or bytes-like object  \n",
       "147.xlsx   expected string or bytes-like object  \n",
       "161.xlsx   expected string or bytes-like object  \n",
       "163.xlsx   expected string or bytes-like object  \n",
       "174.xlsx   expected string or bytes-like object  "
      ]
     },
     "execution_count": 44,
     "metadata": {},
     "output_type": "execute_result"
    }
   ],
   "source": [
    "no_info = merged_df_upd[merged_df_upd[\"error_type\"]!=0]\n",
    "no_info"
   ]
  },
  {
   "cell_type": "markdown",
   "id": "4ba2febc-40d2-484e-b18c-582b79ca0108",
   "metadata": {},
   "source": [
    "Let's remove these files with no informations from \"merged_df\" and report these files to the company."
   ]
  },
  {
   "cell_type": "code",
   "execution_count": 45,
   "id": "36fbbadf-6815-4ea9-8ad4-547273683f40",
   "metadata": {},
   "outputs": [
    {
     "data": {
      "text/html": [
       "<div>\n",
       "<style scoped>\n",
       "    .dataframe tbody tr th:only-of-type {\n",
       "        vertical-align: middle;\n",
       "    }\n",
       "\n",
       "    .dataframe tbody tr th {\n",
       "        vertical-align: top;\n",
       "    }\n",
       "\n",
       "    .dataframe thead th {\n",
       "        text-align: right;\n",
       "    }\n",
       "</style>\n",
       "<table border=\"1\" class=\"dataframe\">\n",
       "  <thead>\n",
       "    <tr style=\"text-align: right;\">\n",
       "      <th></th>\n",
       "      <th>the_latest_date</th>\n",
       "      <th>the_difference</th>\n",
       "      <th>error_type</th>\n",
       "    </tr>\n",
       "    <tr>\n",
       "      <th>file_name</th>\n",
       "      <th></th>\n",
       "      <th></th>\n",
       "      <th></th>\n",
       "    </tr>\n",
       "  </thead>\n",
       "  <tbody>\n",
       "    <tr>\n",
       "      <th>1.xlsx</th>\n",
       "      <td>2023-08-25 00:00:00</td>\n",
       "      <td>0</td>\n",
       "      <td>0</td>\n",
       "    </tr>\n",
       "    <tr>\n",
       "      <th>2.xlsx</th>\n",
       "      <td>2023-07-01 00:00:00</td>\n",
       "      <td>8</td>\n",
       "      <td>0</td>\n",
       "    </tr>\n",
       "    <tr>\n",
       "      <th>3.xlsx</th>\n",
       "      <td>2024-02-26 00:00:00</td>\n",
       "      <td>0</td>\n",
       "      <td>0</td>\n",
       "    </tr>\n",
       "    <tr>\n",
       "      <th>4.xlsx</th>\n",
       "      <td>2023-09-16 00:00:00</td>\n",
       "      <td>0</td>\n",
       "      <td>0</td>\n",
       "    </tr>\n",
       "    <tr>\n",
       "      <th>5.xlsx</th>\n",
       "      <td>2024-04-22 00:00:00</td>\n",
       "      <td>0</td>\n",
       "      <td>0</td>\n",
       "    </tr>\n",
       "    <tr>\n",
       "      <th>...</th>\n",
       "      <td>...</td>\n",
       "      <td>...</td>\n",
       "      <td>...</td>\n",
       "    </tr>\n",
       "    <tr>\n",
       "      <th>171.xlsx</th>\n",
       "      <td>2024-03-11 00:00:00</td>\n",
       "      <td>7</td>\n",
       "      <td>0</td>\n",
       "    </tr>\n",
       "    <tr>\n",
       "      <th>172.xlsx</th>\n",
       "      <td>2023-08-03 00:00:00</td>\n",
       "      <td>0</td>\n",
       "      <td>0</td>\n",
       "    </tr>\n",
       "    <tr>\n",
       "      <th>173.xlsx</th>\n",
       "      <td>2023-06-24 00:00:00</td>\n",
       "      <td>0</td>\n",
       "      <td>0</td>\n",
       "    </tr>\n",
       "    <tr>\n",
       "      <th>175.xlsx</th>\n",
       "      <td>2023-10-01 00:00:00</td>\n",
       "      <td>0</td>\n",
       "      <td>0</td>\n",
       "    </tr>\n",
       "    <tr>\n",
       "      <th>176.xlsx</th>\n",
       "      <td>2024-02-05 00:00:00</td>\n",
       "      <td>0</td>\n",
       "      <td>0</td>\n",
       "    </tr>\n",
       "  </tbody>\n",
       "</table>\n",
       "<p>167 rows × 3 columns</p>\n",
       "</div>"
      ],
      "text/plain": [
       "               the_latest_date  the_difference error_type\n",
       "file_name                                                \n",
       "1.xlsx     2023-08-25 00:00:00               0          0\n",
       "2.xlsx     2023-07-01 00:00:00               8          0\n",
       "3.xlsx     2024-02-26 00:00:00               0          0\n",
       "4.xlsx     2023-09-16 00:00:00               0          0\n",
       "5.xlsx     2024-04-22 00:00:00               0          0\n",
       "...                        ...             ...        ...\n",
       "171.xlsx   2024-03-11 00:00:00               7          0\n",
       "172.xlsx   2023-08-03 00:00:00               0          0\n",
       "173.xlsx   2023-06-24 00:00:00               0          0\n",
       "175.xlsx   2023-10-01 00:00:00               0          0\n",
       "176.xlsx   2024-02-05 00:00:00               0          0\n",
       "\n",
       "[167 rows x 3 columns]"
      ]
     },
     "execution_count": 45,
     "metadata": {},
     "output_type": "execute_result"
    }
   ],
   "source": [
    "merged_df_upd2 = merged_df_upd[merged_df_upd[\"error_type\"] == 0].copy()\n",
    "merged_df_upd2"
   ]
  },
  {
   "cell_type": "markdown",
   "id": "6fd0dc10-3550-471f-a99d-70ba3055b0f9",
   "metadata": {},
   "source": [
    "We don't need error_type column anymore."
   ]
  },
  {
   "cell_type": "code",
   "execution_count": 46,
   "id": "75139fe3-cba1-4da9-ba17-ffbb4a80d191",
   "metadata": {},
   "outputs": [],
   "source": [
    "merged_df_upd2.drop(\"error_type\",axis=1,inplace=True)"
   ]
  },
  {
   "cell_type": "code",
   "execution_count": 47,
   "id": "14cf152a-0bb7-4f3e-a043-c2ec2c4e5b55",
   "metadata": {},
   "outputs": [
    {
     "data": {
      "text/html": [
       "<div>\n",
       "<style scoped>\n",
       "    .dataframe tbody tr th:only-of-type {\n",
       "        vertical-align: middle;\n",
       "    }\n",
       "\n",
       "    .dataframe tbody tr th {\n",
       "        vertical-align: top;\n",
       "    }\n",
       "\n",
       "    .dataframe thead th {\n",
       "        text-align: right;\n",
       "    }\n",
       "</style>\n",
       "<table border=\"1\" class=\"dataframe\">\n",
       "  <thead>\n",
       "    <tr style=\"text-align: right;\">\n",
       "      <th></th>\n",
       "      <th>the_latest_date</th>\n",
       "      <th>the_difference</th>\n",
       "    </tr>\n",
       "    <tr>\n",
       "      <th>file_name</th>\n",
       "      <th></th>\n",
       "      <th></th>\n",
       "    </tr>\n",
       "  </thead>\n",
       "  <tbody>\n",
       "    <tr>\n",
       "      <th>1.xlsx</th>\n",
       "      <td>2023-08-25 00:00:00</td>\n",
       "      <td>0</td>\n",
       "    </tr>\n",
       "    <tr>\n",
       "      <th>2.xlsx</th>\n",
       "      <td>2023-07-01 00:00:00</td>\n",
       "      <td>8</td>\n",
       "    </tr>\n",
       "    <tr>\n",
       "      <th>3.xlsx</th>\n",
       "      <td>2024-02-26 00:00:00</td>\n",
       "      <td>0</td>\n",
       "    </tr>\n",
       "    <tr>\n",
       "      <th>4.xlsx</th>\n",
       "      <td>2023-09-16 00:00:00</td>\n",
       "      <td>0</td>\n",
       "    </tr>\n",
       "    <tr>\n",
       "      <th>5.xlsx</th>\n",
       "      <td>2024-04-22 00:00:00</td>\n",
       "      <td>0</td>\n",
       "    </tr>\n",
       "  </tbody>\n",
       "</table>\n",
       "</div>"
      ],
      "text/plain": [
       "               the_latest_date  the_difference\n",
       "file_name                                     \n",
       "1.xlsx     2023-08-25 00:00:00               0\n",
       "2.xlsx     2023-07-01 00:00:00               8\n",
       "3.xlsx     2024-02-26 00:00:00               0\n",
       "4.xlsx     2023-09-16 00:00:00               0\n",
       "5.xlsx     2024-04-22 00:00:00               0"
      ]
     },
     "execution_count": 47,
     "metadata": {},
     "output_type": "execute_result"
    }
   ],
   "source": [
    "merged_df_upd2.head()"
   ]
  },
  {
   "cell_type": "markdown",
   "id": "0f98a756-764f-4684-b7ac-b68ac7d22805",
   "metadata": {},
   "source": [
    "### 3.2 Identifying Non-Date Numbers Within Text"
   ]
  },
  {
   "cell_type": "code",
   "execution_count": 49,
   "id": "d54720b9-c2d2-49d7-84a1-9f0e74cde8da",
   "metadata": {},
   "outputs": [
    {
     "data": {
      "text/plain": [
       "Index(['2.xlsx', '16.xlsx', '17.xlsx', '42.xlsx', '64.xlsx', '65.xlsx',\n",
       "       '70.xlsx', '73.xlsx', '80.xlsx', '84.xlsx', '85.xlsx', '122.xlsx',\n",
       "       '123.xlsx', '125.xlsx', '126.xlsx', '135.xlsx', '146.xlsx', '148.xlsx',\n",
       "       '155.xlsx', '165.xlsx', '167.xlsx', '168.xlsx', '171.xlsx'],\n",
       "      dtype='object', name='file_name')"
      ]
     },
     "execution_count": 49,
     "metadata": {},
     "output_type": "execute_result"
    }
   ],
   "source": [
    "file_names = merged_df_upd2[merged_df_upd2[\"the_difference\"] != 0].index\n",
    "file_names"
   ]
  },
  {
   "cell_type": "code",
   "execution_count": null,
   "id": "065e2772-70e1-4f66-a8e9-e7111c00d74a",
   "metadata": {},
   "outputs": [],
   "source": [
    "for file in file_names:\n",
    "    df = pd.read_excel(file)\n",
    "    text = df.iloc[24, 1]\n",
    "    print(f\"File name: {file}\\n\\n\",text, \"\\n\\n\")\n",
    "    sleep(2)"
   ]
  },
  {
   "cell_type": "code",
   "execution_count": 51,
   "id": "01730c25-ce01-40c1-b6e3-d6e2ca30444d",
   "metadata": {},
   "outputs": [
    {
     "data": {
      "text/plain": [
       "the_latest_date    2023-06-01 00:00:00\n",
       "the_difference                      18\n",
       "Name: 122.xlsx, dtype: object"
      ]
     },
     "execution_count": 51,
     "metadata": {},
     "output_type": "execute_result"
    }
   ],
   "source": [
    "date_122 = \"01/06/2023\"\n",
    "date_122 = pd.to_datetime(date_122, dayfirst=True)\n",
    "merged_df_upd2.loc[\"122.xlsx\", \"the_latest_date\"] = date_122\n",
    "merged_df_upd2.loc[\"122.xlsx\"]"
   ]
  },
  {
   "cell_type": "code",
   "execution_count": 54,
   "id": "5fb0f763-3769-4390-9d58-cd6729a68f5a",
   "metadata": {},
   "outputs": [
    {
     "data": {
      "text/plain": [
       "'Same date with 122.xlsx file'"
      ]
     },
     "execution_count": 54,
     "metadata": {},
     "output_type": "execute_result"
    }
   ],
   "source": [
    "merged_df_upd2.loc[\"125.xlsx\", \"the_latest_date\"] = date_122\n",
    "'''Same date with 122.xlsx file''' "
   ]
  },
  {
   "cell_type": "code",
   "execution_count": 55,
   "id": "d75f94e7-bef9-4ffe-bfd1-8c89ba98b063",
   "metadata": {},
   "outputs": [
    {
     "data": {
      "text/plain": [
       "the_latest_date    2023-06-01 00:00:00\n",
       "the_difference                      22\n",
       "Name: 125.xlsx, dtype: object"
      ]
     },
     "execution_count": 55,
     "metadata": {},
     "output_type": "execute_result"
    }
   ],
   "source": [
    "merged_df_upd2.loc[\"125.xlsx\"]"
   ]
  },
  {
   "cell_type": "markdown",
   "id": "14bee7fe-b993-4483-9b7e-8febad17e39f",
   "metadata": {},
   "source": [
    "Using the provided code snippet, I was able to conveniently access the data. However, I am unable to share the actual data due to privacy concerns associated with the company. It is important to note that a significant portion of the text in the dataset contains information unrelated to dates, such as prices and quantities of goods. To ensure data accuracy, I manually corrected the date formats in Excel files 122, 125, as they were initially written in incorrect formats like mm/yyyy and dd\\.mm/yyyy."
   ]
  },
  {
   "cell_type": "markdown",
   "id": "5e01b10e-3e66-419d-9adb-e2a9e0ad3cc9",
   "metadata": {},
   "source": [
    "Now that we have resolved the issue of the extra numbers in the text, we can proceed to remove the \"the_difference\" column from the DataFrame merged_df_upd2."
   ]
  },
  {
   "cell_type": "code",
   "execution_count": 58,
   "id": "3cb816c4-6ad3-4f9e-bcbe-514c10c7531e",
   "metadata": {},
   "outputs": [],
   "source": [
    "merged_df_upd2.drop(\"the_difference\", axis=1, inplace=True)"
   ]
  },
  {
   "cell_type": "code",
   "execution_count": 63,
   "id": "522cb444-2874-48b7-8acd-d3f99b62f539",
   "metadata": {},
   "outputs": [
    {
     "data": {
      "text/html": [
       "<div>\n",
       "<style scoped>\n",
       "    .dataframe tbody tr th:only-of-type {\n",
       "        vertical-align: middle;\n",
       "    }\n",
       "\n",
       "    .dataframe tbody tr th {\n",
       "        vertical-align: top;\n",
       "    }\n",
       "\n",
       "    .dataframe thead th {\n",
       "        text-align: right;\n",
       "    }\n",
       "</style>\n",
       "<table border=\"1\" class=\"dataframe\">\n",
       "  <thead>\n",
       "    <tr style=\"text-align: right;\">\n",
       "      <th></th>\n",
       "      <th>the_latest_date</th>\n",
       "    </tr>\n",
       "    <tr>\n",
       "      <th>file_name</th>\n",
       "      <th></th>\n",
       "    </tr>\n",
       "  </thead>\n",
       "  <tbody>\n",
       "    <tr>\n",
       "      <th>1.xlsx</th>\n",
       "      <td>2023-08-25 00:00:00</td>\n",
       "    </tr>\n",
       "    <tr>\n",
       "      <th>2.xlsx</th>\n",
       "      <td>2023-07-01 00:00:00</td>\n",
       "    </tr>\n",
       "    <tr>\n",
       "      <th>3.xlsx</th>\n",
       "      <td>2024-02-26 00:00:00</td>\n",
       "    </tr>\n",
       "    <tr>\n",
       "      <th>4.xlsx</th>\n",
       "      <td>2023-09-16 00:00:00</td>\n",
       "    </tr>\n",
       "    <tr>\n",
       "      <th>5.xlsx</th>\n",
       "      <td>2024-04-22 00:00:00</td>\n",
       "    </tr>\n",
       "  </tbody>\n",
       "</table>\n",
       "</div>"
      ],
      "text/plain": [
       "               the_latest_date\n",
       "file_name                     \n",
       "1.xlsx     2023-08-25 00:00:00\n",
       "2.xlsx     2023-07-01 00:00:00\n",
       "3.xlsx     2024-02-26 00:00:00\n",
       "4.xlsx     2023-09-16 00:00:00\n",
       "5.xlsx     2024-04-22 00:00:00"
      ]
     },
     "execution_count": 63,
     "metadata": {},
     "output_type": "execute_result"
    }
   ],
   "source": [
    "merged_df_upd2.head()"
   ]
  },
  {
   "cell_type": "markdown",
   "id": "c7b2ff87-7b7e-4a01-aa19-784b356abe6c",
   "metadata": {},
   "source": [
    "Let's update the column name \"the_latest_date\" to a more descriptive title, such as \"Upcoming Date\"."
   ]
  },
  {
   "cell_type": "code",
   "execution_count": 64,
   "id": "9aa8c806-b64a-47b5-acc4-13def526535a",
   "metadata": {},
   "outputs": [],
   "source": [
    "merged_df_upd2.rename(columns={\"the_latest_date\":\"Upcoming Date\"}, inplace=True)"
   ]
  },
  {
   "cell_type": "code",
   "execution_count": 65,
   "id": "f615bbe5-5b0e-48a3-bfe1-118b48de1b94",
   "metadata": {},
   "outputs": [
    {
     "data": {
      "text/html": [
       "<div>\n",
       "<style scoped>\n",
       "    .dataframe tbody tr th:only-of-type {\n",
       "        vertical-align: middle;\n",
       "    }\n",
       "\n",
       "    .dataframe tbody tr th {\n",
       "        vertical-align: top;\n",
       "    }\n",
       "\n",
       "    .dataframe thead th {\n",
       "        text-align: right;\n",
       "    }\n",
       "</style>\n",
       "<table border=\"1\" class=\"dataframe\">\n",
       "  <thead>\n",
       "    <tr style=\"text-align: right;\">\n",
       "      <th></th>\n",
       "      <th>Upcoming Date</th>\n",
       "    </tr>\n",
       "    <tr>\n",
       "      <th>file_name</th>\n",
       "      <th></th>\n",
       "    </tr>\n",
       "  </thead>\n",
       "  <tbody>\n",
       "    <tr>\n",
       "      <th>1.xlsx</th>\n",
       "      <td>2023-08-25 00:00:00</td>\n",
       "    </tr>\n",
       "    <tr>\n",
       "      <th>2.xlsx</th>\n",
       "      <td>2023-07-01 00:00:00</td>\n",
       "    </tr>\n",
       "    <tr>\n",
       "      <th>3.xlsx</th>\n",
       "      <td>2024-02-26 00:00:00</td>\n",
       "    </tr>\n",
       "    <tr>\n",
       "      <th>4.xlsx</th>\n",
       "      <td>2023-09-16 00:00:00</td>\n",
       "    </tr>\n",
       "    <tr>\n",
       "      <th>5.xlsx</th>\n",
       "      <td>2024-04-22 00:00:00</td>\n",
       "    </tr>\n",
       "  </tbody>\n",
       "</table>\n",
       "</div>"
      ],
      "text/plain": [
       "                 Upcoming Date\n",
       "file_name                     \n",
       "1.xlsx     2023-08-25 00:00:00\n",
       "2.xlsx     2023-07-01 00:00:00\n",
       "3.xlsx     2024-02-26 00:00:00\n",
       "4.xlsx     2023-09-16 00:00:00\n",
       "5.xlsx     2024-04-22 00:00:00"
      ]
     },
     "execution_count": 65,
     "metadata": {},
     "output_type": "execute_result"
    }
   ],
   "source": [
    "merged_df_upd2.head()"
   ]
  },
  {
   "cell_type": "markdown",
   "id": "8316e896-c515-486a-be67-3a091a1e424a",
   "metadata": {},
   "source": [
    "# 4. Exporting DataFrame to a CSV File"
   ]
  },
  {
   "cell_type": "code",
   "execution_count": 66,
   "id": "a0066be2-4314-4d36-999e-5b1d7fb4b4e6",
   "metadata": {},
   "outputs": [],
   "source": [
    "merged_df_upd2.to_csv(\"final_table.csv\", index=True)"
   ]
  },
  {
   "cell_type": "code",
   "execution_count": 70,
   "id": "64dc9a1d-fd0a-49b4-ad9a-3bdb8e8f17be",
   "metadata": {},
   "outputs": [
    {
     "data": {
      "text/html": [
       "<div>\n",
       "<style scoped>\n",
       "    .dataframe tbody tr th:only-of-type {\n",
       "        vertical-align: middle;\n",
       "    }\n",
       "\n",
       "    .dataframe tbody tr th {\n",
       "        vertical-align: top;\n",
       "    }\n",
       "\n",
       "    .dataframe thead th {\n",
       "        text-align: right;\n",
       "    }\n",
       "</style>\n",
       "<table border=\"1\" class=\"dataframe\">\n",
       "  <thead>\n",
       "    <tr style=\"text-align: right;\">\n",
       "      <th></th>\n",
       "      <th>Upcoming Date</th>\n",
       "    </tr>\n",
       "    <tr>\n",
       "      <th>file_name</th>\n",
       "      <th></th>\n",
       "    </tr>\n",
       "  </thead>\n",
       "  <tbody>\n",
       "    <tr>\n",
       "      <th>1.xlsx</th>\n",
       "      <td>2023-08-25 00:00:00</td>\n",
       "    </tr>\n",
       "    <tr>\n",
       "      <th>2.xlsx</th>\n",
       "      <td>2023-07-01 00:00:00</td>\n",
       "    </tr>\n",
       "    <tr>\n",
       "      <th>3.xlsx</th>\n",
       "      <td>2024-02-26 00:00:00</td>\n",
       "    </tr>\n",
       "    <tr>\n",
       "      <th>4.xlsx</th>\n",
       "      <td>2023-09-16 00:00:00</td>\n",
       "    </tr>\n",
       "    <tr>\n",
       "      <th>5.xlsx</th>\n",
       "      <td>2024-04-22 00:00:00</td>\n",
       "    </tr>\n",
       "  </tbody>\n",
       "</table>\n",
       "</div>"
      ],
      "text/plain": [
       "                 Upcoming Date\n",
       "file_name                     \n",
       "1.xlsx     2023-08-25 00:00:00\n",
       "2.xlsx     2023-07-01 00:00:00\n",
       "3.xlsx     2024-02-26 00:00:00\n",
       "4.xlsx     2023-09-16 00:00:00\n",
       "5.xlsx     2024-04-22 00:00:00"
      ]
     },
     "execution_count": 70,
     "metadata": {},
     "output_type": "execute_result"
    }
   ],
   "source": [
    "df = pd.read_csv(\"final_table.csv\",index_col=\"file_name\")\n",
    "df.head()"
   ]
  }
 ],
 "metadata": {
  "kernelspec": {
   "display_name": "Python 3 (ipykernel)",
   "language": "python",
   "name": "python3"
  },
  "language_info": {
   "codemirror_mode": {
    "name": "ipython",
    "version": 3
   },
   "file_extension": ".py",
   "mimetype": "text/x-python",
   "name": "python",
   "nbconvert_exporter": "python",
   "pygments_lexer": "ipython3",
   "version": "3.10.9"
  }
 },
 "nbformat": 4,
 "nbformat_minor": 5
}
